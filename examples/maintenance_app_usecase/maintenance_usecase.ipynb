{
 "cells": [
  {
   "cell_type": "code",
   "execution_count": null,
   "metadata": {},
   "outputs": [],
   "source": [
    "import json\n",
    "import os\n",
    "\n",
    "import openai\n",
    "from openai_functools import FunctionsOrchestrator"
   ]
  },
  {
   "cell_type": "code",
   "execution_count": null,
   "metadata": {},
   "outputs": [],
   "source": [
    "def retrieve_logs():\n",
    "    pass\n",
    "\n",
    "def query_db():\n",
    "    pass\n",
    "\n",
    "def query_api():\n",
    "    pass\n",
    "\n",
    "def query_vector_db():\n",
    "    \"\"\"TODO build docstrings\"\"\"\n",
    "    return \"spoof answer\""
   ]
  },
  {
   "cell_type": "code",
   "execution_count": null,
   "metadata": {},
   "outputs": [],
   "source": [
    "orchestrator = FunctionsOrchestrator()\n",
    "orchestrator.register_all([retrieve_logs, query_db, query_api, query_vector_db])"
   ]
  },
  {
   "cell_type": "code",
   "execution_count": null,
   "metadata": {},
   "outputs": [],
   "source": [
    "def respond_and_call():\n",
    "    response = openai.ChatCompletion.create(\n",
    "        model=\"gpt-3.5-turbo-0613\",\n",
    "        messages=[{\"role\": \"user\", \"content\": \"What's the weather like in Boston?\"}],\n",
    "        functions=orchestrator.create_function_descriptions(),\n",
    "        function_call=\"auto\",\n",
    "    )\n",
    "\n",
    "    # Call the function that is specified in the response\n",
    "    response = orchestrator.call_function(response)"
   ]
  },
  {
   "cell_type": "code",
   "execution_count": null,
   "metadata": {},
   "outputs": [],
   "source": [
    " openai.api_key = os.environ[\"OPENAI_API_KEY\"]\n",
    "    response = openai.ChatCompletion.create(\n",
    "        model=\"gpt-3.5-turbo-0613\",\n",
    "        messages=[{\"role\": \"user\", \"content\": \"What's the weather like in Boston?\"}],\n",
    "        functions=orchestrator.create_function_descriptions(),\n",
    "        function_call=\"auto\",\n",
    "    )\n",
    "    # Call the function that is specified in the response\n",
    "    print(orchestrator.call_function(response))\n",
    "\n",
    "    response = openai.ChatCompletion.create(\n",
    "        model=\"gpt-3.5-turbo-0613\",\n",
    "        messages=[\n",
    "            {\"role\": \"user\", \"content\": \"What's the weather like in Boston tomorrow?\"}\n",
    "        ],\n",
    "        functions=orchestrator.create_function_descriptions(),\n",
    "        function_call=\"auto\",\n",
    "    )\n",
    "    # Call the function that is specified in the response\n",
    "    print(orchestrator.call_function(response))"
   ]
  }
 ],
 "metadata": {
  "language_info": {
   "name": "python"
  },
  "orig_nbformat": 4
 },
 "nbformat": 4,
 "nbformat_minor": 2
}
